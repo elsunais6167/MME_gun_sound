{
 "cells": [
  {
   "cell_type": "code",
   "execution_count": 1,
   "id": "3613da71",
   "metadata": {
    "_cell_guid": "b1076dfc-b9ad-4769-8c92-a6c4dae69d19",
    "_uuid": "8f2839f25d086af736a60e9eeb907d3b93b6e0e5",
    "execution": {
     "iopub.execute_input": "2022-01-14T02:18:27.332425Z",
     "iopub.status.busy": "2022-01-14T02:18:27.330660Z",
     "iopub.status.idle": "2022-01-14T02:18:27.345081Z",
     "shell.execute_reply": "2022-01-14T02:18:27.345908Z",
     "shell.execute_reply.started": "2022-01-13T13:34:48.741332Z"
    },
    "papermill": {
     "duration": 0.042227,
     "end_time": "2022-01-14T02:18:27.346387",
     "exception": false,
     "start_time": "2022-01-14T02:18:27.304160",
     "status": "completed"
    },
    "tags": []
   },
   "outputs": [],
   "source": [
    "import numpy as np\n",
    "import pandas as pd \n",
    "\n",
    "import os\n",
    "import copy"
   ]
  },
  {
   "cell_type": "code",
   "execution_count": 3,
   "id": "4d7edbed",
   "metadata": {
    "execution": {
     "iopub.execute_input": "2022-01-14T02:18:27.384433Z",
     "iopub.status.busy": "2022-01-14T02:18:27.383855Z",
     "iopub.status.idle": "2022-01-14T02:18:29.768004Z",
     "shell.execute_reply": "2022-01-14T02:18:29.767457Z",
     "shell.execute_reply.started": "2022-01-13T13:34:48.772283Z"
    },
    "papermill": {
     "duration": 2.403307,
     "end_time": "2022-01-14T02:18:29.768160",
     "exception": false,
     "start_time": "2022-01-14T02:18:27.364853",
     "status": "completed"
    },
    "tags": []
   },
   "outputs": [],
   "source": [
    "import librosa\n",
    "import matplotlib.pyplot as plt"
   ]
  },
  {
   "cell_type": "markdown",
   "id": "9e9e251d",
   "metadata": {
    "papermill": {
     "duration": 0.012165,
     "end_time": "2022-01-14T02:18:29.793005",
     "exception": false,
     "start_time": "2022-01-14T02:18:29.780840",
     "status": "completed"
    },
    "tags": []
   },
   "source": [
    "os.chdir(path) ## can change current directory    np.argmax(x)"
   ]
  },
  {
   "cell_type": "code",
   "execution_count": 4,
   "id": "d0a5eaa0",
   "metadata": {
    "execution": {
     "iopub.execute_input": "2022-01-14T02:18:29.821508Z",
     "iopub.status.busy": "2022-01-14T02:18:29.820916Z",
     "iopub.status.idle": "2022-01-14T02:18:29.826045Z",
     "shell.execute_reply": "2022-01-14T02:18:29.826486Z",
     "shell.execute_reply.started": "2022-01-13T13:34:50.880806Z"
    },
    "papermill": {
     "duration": 0.021199,
     "end_time": "2022-01-14T02:18:29.826684",
     "exception": false,
     "start_time": "2022-01-14T02:18:29.805485",
     "status": "completed"
    },
    "tags": []
   },
   "outputs": [],
   "source": [
    "# np.argmax(x)\n",
    "def find_max_and_return_index(mylist):\n",
    "    co = 0\n",
    "    mymax = 0\n",
    "    for i,value in enumerate(mylist):\n",
    "        if mymax < value:\n",
    "            mymax = value\n",
    "            co = i\n",
    "    return mymax,co"
   ]
  },
  {
   "cell_type": "code",
   "execution_count": 5,
   "id": "f5926745",
   "metadata": {
    "execution": {
     "iopub.execute_input": "2022-01-14T02:18:29.858351Z",
     "iopub.status.busy": "2022-01-14T02:18:29.857679Z",
     "iopub.status.idle": "2022-01-14T02:20:44.510821Z",
     "shell.execute_reply": "2022-01-14T02:20:44.509790Z",
     "shell.execute_reply.started": "2022-01-13T13:34:50.889918Z"
    },
    "papermill": {
     "duration": 134.67179,
     "end_time": "2022-01-14T02:20:44.511005",
     "exception": false,
     "start_time": "2022-01-14T02:18:29.839215",
     "status": "completed"
    },
    "tags": []
   },
   "outputs": [
    {
     "ename": "SyntaxError",
     "evalue": "(unicode error) 'unicodeescape' codec can't decode bytes in position 2-3: truncated \\UXXXXXXXX escape (669388605.py, line 1)",
     "output_type": "error",
     "traceback": [
      "\u001b[1;36m  Cell \u001b[1;32mIn[5], line 1\u001b[1;36m\u001b[0m\n\u001b[1;33m    list_folder = os.listdir('C:\\Users\\YANSILIYU\\devProject\\gun_sound\\dataset')\u001b[0m\n\u001b[1;37m                                                                              ^\u001b[0m\n\u001b[1;31mSyntaxError\u001b[0m\u001b[1;31m:\u001b[0m (unicode error) 'unicodeescape' codec can't decode bytes in position 2-3: truncated \\UXXXXXXXX escape\n"
     ]
    }
   ],
   "source": [
    "list_folder = os.listdir('C:\\Users\\YANSILIYU\\devProject\\gun_sound\\dataset')\n",
    "\n",
    "hop_length = 512 #the default spacing between frames\n",
    "n_fft = 255 #number of samples\n",
    "\n",
    "raw_x = []\n",
    "raw_y = []\n",
    "for i in list_folder:\n",
    "    list_file_wave = os.listdir('C:\\Users\\YANSILIYU\\devProject\\gun_sound\\dataset' + i)\n",
    "    for j in list_file_wave:\n",
    "        filename = 'C:\\Users\\YANSILIYU\\devProject\\gun_sound\\dataset' + i + '/' + j\n",
    "        data, sr = librosa.load(filename,sr=22050)\n",
    "        \n",
    "        raw_x.append(data)\n",
    "        raw_y.append(i)\n",
    "        \n",
    "        \n",
    "   "
   ]
  },
  {
   "cell_type": "code",
   "execution_count": 5,
   "id": "369ab25e",
   "metadata": {
    "execution": {
     "iopub.execute_input": "2022-01-14T02:20:44.540413Z",
     "iopub.status.busy": "2022-01-14T02:20:44.539699Z",
     "iopub.status.idle": "2022-01-14T02:20:48.393706Z",
     "shell.execute_reply": "2022-01-14T02:20:48.394599Z",
     "shell.execute_reply.started": "2022-01-13T13:37:03.888963Z"
    },
    "papermill": {
     "duration": 3.870929,
     "end_time": "2022-01-14T02:20:48.394932",
     "exception": false,
     "start_time": "2022-01-14T02:20:44.524003",
     "status": "completed"
    },
    "tags": []
   },
   "outputs": [
    {
     "name": "stderr",
     "output_type": "stream",
     "text": [
      "/opt/conda/lib/python3.7/site-packages/librosa/filters.py:239: UserWarning: Empty filters detected in mel frequency basis. Some channels will produce empty responses. Try increasing your sampling rate (and fmax) or reducing n_mels.\n",
      "  \"Empty filters detected in mel frequency basis. \"\n"
     ]
    }
   ],
   "source": [
    "x = []\n",
    "y = []\n",
    "for i in range(len(raw_x)):\n",
    "    data = raw_x[i]\n",
    "    if len(data) == 44100:\n",
    "        mfcc_data = np.array(librosa.feature.mfcc(data, n_fft=n_fft,hop_length=hop_length,n_mfcc=128))\n",
    "        x.append(mfcc_data)\n",
    "        y.append(raw_y[i])"
   ]
  },
  {
   "cell_type": "code",
   "execution_count": 6,
   "id": "18fb8f29",
   "metadata": {
    "execution": {
     "iopub.execute_input": "2022-01-14T02:20:48.457496Z",
     "iopub.status.busy": "2022-01-14T02:20:48.456416Z",
     "iopub.status.idle": "2022-01-14T02:20:48.461214Z",
     "shell.execute_reply": "2022-01-14T02:20:48.461962Z",
     "shell.execute_reply.started": "2022-01-13T13:37:08.091127Z"
    },
    "papermill": {
     "duration": 0.03917,
     "end_time": "2022-01-14T02:20:48.462254",
     "exception": false,
     "start_time": "2022-01-14T02:20:48.423084",
     "status": "completed"
    },
    "tags": []
   },
   "outputs": [],
   "source": [
    "x_copy = copy.copy(x)\n",
    "y_copy = copy.copy(y)"
   ]
  },
  {
   "cell_type": "code",
   "execution_count": 7,
   "id": "4901d7d9",
   "metadata": {
    "execution": {
     "iopub.execute_input": "2022-01-14T02:20:48.516868Z",
     "iopub.status.busy": "2022-01-14T02:20:48.516008Z",
     "iopub.status.idle": "2022-01-14T02:20:48.517514Z",
     "shell.execute_reply": "2022-01-14T02:20:48.518001Z",
     "shell.execute_reply.started": "2022-01-13T13:37:08.099012Z"
    },
    "papermill": {
     "duration": 0.030501,
     "end_time": "2022-01-14T02:20:48.518173",
     "exception": false,
     "start_time": "2022-01-14T02:20:48.487672",
     "status": "completed"
    },
    "tags": []
   },
   "outputs": [],
   "source": [
    "#x_copy = np.array((x_copy-np.min(x_copy))/(np.max(x_copy)-np.min(x_copy)))\n",
    "#x_copy = x_copy/np.std(x_copy)"
   ]
  },
  {
   "cell_type": "code",
   "execution_count": 8,
   "id": "2f7769ae",
   "metadata": {
    "execution": {
     "iopub.execute_input": "2022-01-14T02:20:48.547425Z",
     "iopub.status.busy": "2022-01-14T02:20:48.546452Z",
     "iopub.status.idle": "2022-01-14T02:20:48.551727Z",
     "shell.execute_reply": "2022-01-14T02:20:48.552250Z",
     "shell.execute_reply.started": "2022-01-13T13:37:08.113918Z"
    },
    "papermill": {
     "duration": 0.021395,
     "end_time": "2022-01-14T02:20:48.552420",
     "exception": false,
     "start_time": "2022-01-14T02:20:48.531025",
     "status": "completed"
    },
    "tags": []
   },
   "outputs": [],
   "source": [
    "from sklearn import preprocessing\n",
    "\n",
    "le = preprocessing.LabelEncoder()\n",
    "le.fit(y_copy)\n",
    "y_copy_new = le.transform(y_copy)\n",
    "\n",
    "# from tensorflow.keras.utils import to_categorical\n",
    "# y_copy_new = to_categorical(y_copy_new, dtype =\"uint8\")"
   ]
  },
  {
   "cell_type": "code",
   "execution_count": 9,
   "id": "81ce69c0",
   "metadata": {
    "execution": {
     "iopub.execute_input": "2022-01-14T02:20:48.582656Z",
     "iopub.status.busy": "2022-01-14T02:20:48.581632Z",
     "iopub.status.idle": "2022-01-14T02:20:48.586453Z",
     "shell.execute_reply": "2022-01-14T02:20:48.586958Z",
     "shell.execute_reply.started": "2022-01-13T13:37:08.134172Z"
    },
    "papermill": {
     "duration": 0.021897,
     "end_time": "2022-01-14T02:20:48.587130",
     "exception": false,
     "start_time": "2022-01-14T02:20:48.565233",
     "status": "completed"
    },
    "tags": []
   },
   "outputs": [],
   "source": [
    "len_x_copy = []\n",
    "for i in range(len(x_copy)):\n",
    "    temp = x_copy[i].shape\n",
    "    # print(temp)\n",
    "    len_x_copy.append(temp)"
   ]
  },
  {
   "cell_type": "code",
   "execution_count": 10,
   "id": "8e12436e",
   "metadata": {
    "execution": {
     "iopub.execute_input": "2022-01-14T02:20:48.620188Z",
     "iopub.status.busy": "2022-01-14T02:20:48.618887Z",
     "iopub.status.idle": "2022-01-14T02:20:48.624856Z",
     "shell.execute_reply": "2022-01-14T02:20:48.625370Z",
     "shell.execute_reply.started": "2022-01-13T13:37:08.147008Z"
    },
    "papermill": {
     "duration": 0.024802,
     "end_time": "2022-01-14T02:20:48.625537",
     "exception": false,
     "start_time": "2022-01-14T02:20:48.600735",
     "status": "completed"
    },
    "tags": []
   },
   "outputs": [
    {
     "name": "stdout",
     "output_type": "stream",
     "text": [
      "[ 87 128] [745 745]\n"
     ]
    }
   ],
   "source": [
    "value, count = np.unique(len_x_copy, return_counts=True)\n",
    "print(value,count)"
   ]
  },
  {
   "cell_type": "code",
   "execution_count": 11,
   "id": "9ea848e8",
   "metadata": {
    "execution": {
     "iopub.execute_input": "2022-01-14T02:20:48.657691Z",
     "iopub.status.busy": "2022-01-14T02:20:48.657038Z",
     "iopub.status.idle": "2022-01-14T02:20:48.671413Z",
     "shell.execute_reply": "2022-01-14T02:20:48.671950Z",
     "shell.execute_reply.started": "2022-01-13T13:37:08.164159Z"
    },
    "papermill": {
     "duration": 0.033256,
     "end_time": "2022-01-14T02:20:48.672127",
     "exception": false,
     "start_time": "2022-01-14T02:20:48.638871",
     "status": "completed"
    },
    "tags": []
   },
   "outputs": [],
   "source": [
    "x_copy = np.array(x_copy)"
   ]
  },
  {
   "cell_type": "code",
   "execution_count": 12,
   "id": "341501eb",
   "metadata": {
    "execution": {
     "iopub.execute_input": "2022-01-14T02:20:48.701668Z",
     "iopub.status.busy": "2022-01-14T02:20:48.701012Z",
     "iopub.status.idle": "2022-01-14T02:20:48.734607Z",
     "shell.execute_reply": "2022-01-14T02:20:48.734062Z",
     "shell.execute_reply.started": "2022-01-13T13:37:08.196985Z"
    },
    "papermill": {
     "duration": 0.049427,
     "end_time": "2022-01-14T02:20:48.734764",
     "exception": false,
     "start_time": "2022-01-14T02:20:48.685337",
     "status": "completed"
    },
    "tags": []
   },
   "outputs": [],
   "source": [
    "from sklearn.model_selection import train_test_split\n",
    "X_train, X_test, y_train, y_test = train_test_split(x_copy, y_copy_new, test_size=0.25, random_state=123, stratify=y)\n",
    "X_train, X_val, y_train, y_val = train_test_split(X_train, y_train, test_size=0.25, random_state=123)\n"
   ]
  },
  {
   "cell_type": "code",
   "execution_count": 13,
   "id": "50d3df5d",
   "metadata": {
    "execution": {
     "iopub.execute_input": "2022-01-14T02:20:48.767902Z",
     "iopub.status.busy": "2022-01-14T02:20:48.767201Z",
     "iopub.status.idle": "2022-01-14T02:20:55.383054Z",
     "shell.execute_reply": "2022-01-14T02:20:55.383516Z",
     "shell.execute_reply.started": "2022-01-13T13:37:08.236376Z"
    },
    "papermill": {
     "duration": 6.635058,
     "end_time": "2022-01-14T02:20:55.383712",
     "exception": false,
     "start_time": "2022-01-14T02:20:48.748654",
     "status": "completed"
    },
    "tags": []
   },
   "outputs": [],
   "source": [
    "from tensorflow.keras.layers import LSTM, Dense,Dropout,Flatten\n",
    "from tensorflow import keras"
   ]
  },
  {
   "cell_type": "code",
   "execution_count": 14,
   "id": "3fede77a",
   "metadata": {
    "execution": {
     "iopub.execute_input": "2022-01-14T02:20:55.414467Z",
     "iopub.status.busy": "2022-01-14T02:20:55.413904Z",
     "iopub.status.idle": "2022-01-14T02:20:55.901288Z",
     "shell.execute_reply": "2022-01-14T02:20:55.901749Z",
     "shell.execute_reply.started": "2022-01-13T13:37:13.697584Z"
    },
    "papermill": {
     "duration": 0.503608,
     "end_time": "2022-01-14T02:20:55.901932",
     "exception": false,
     "start_time": "2022-01-14T02:20:55.398324",
     "status": "completed"
    },
    "tags": []
   },
   "outputs": [
    {
     "name": "stderr",
     "output_type": "stream",
     "text": [
      "\n",
      "User settings:\n",
      "\n",
      "   KMP_AFFINITY=granularity=fine,verbose,compact,1,0\n",
      "   KMP_BLOCKTIME=0\n",
      "   KMP_DUPLICATE_LIB_OK=True\n",
      "   KMP_INIT_AT_FORK=FALSE\n",
      "   KMP_SETTINGS=1\n",
      "   KMP_WARNINGS=0\n",
      "\n",
      "Effective settings:\n",
      "\n",
      "   KMP_ABORT_DELAY=0\n",
      "   KMP_ADAPTIVE_LOCK_PROPS='1,1024'\n",
      "   KMP_ALIGN_ALLOC=64\n",
      "   KMP_ALL_THREADPRIVATE=128\n",
      "   KMP_ATOMIC_MODE=2\n",
      "   KMP_BLOCKTIME=0\n",
      "   KMP_CPUINFO_FILE: value is not defined\n",
      "   KMP_DETERMINISTIC_REDUCTION=false\n",
      "   KMP_DEVICE_THREAD_LIMIT=2147483647\n",
      "   KMP_DISP_NUM_BUFFERS=7\n",
      "   KMP_DUPLICATE_LIB_OK=true\n",
      "   KMP_ENABLE_TASK_THROTTLING=true\n",
      "   KMP_FORCE_REDUCTION: value is not defined\n",
      "   KMP_FOREIGN_THREADS_THREADPRIVATE=true\n",
      "   KMP_FORKJOIN_BARRIER='2,2'\n",
      "   KMP_FORKJOIN_BARRIER_PATTERN='hyper,hyper'\n",
      "   KMP_GTID_MODE=3\n",
      "   KMP_HANDLE_SIGNALS=false\n",
      "   KMP_HOT_TEAMS_MAX_LEVEL=1\n",
      "   KMP_HOT_TEAMS_MODE=0\n",
      "   KMP_INIT_AT_FORK=true\n",
      "   KMP_LIBRARY=throughput\n",
      "   KMP_LOCK_KIND=queuing\n",
      "   KMP_MALLOC_POOL_INCR=1M\n",
      "   KMP_NUM_LOCKS_IN_BLOCK=1\n",
      "   KMP_PLAIN_BARRIER='2,2'\n",
      "   KMP_PLAIN_BARRIER_PATTERN='hyper,hyper'\n",
      "   KMP_REDUCTION_BARRIER='1,1'\n",
      "   KMP_REDUCTION_BARRIER_PATTERN='hyper,hyper'\n",
      "   KMP_SCHEDULE='static,balanced;guided,iterative'\n",
      "   KMP_SETTINGS=true\n",
      "   KMP_SPIN_BACKOFF_PARAMS='4096,100'\n",
      "   KMP_STACKOFFSET=64\n",
      "   KMP_STACKPAD=0\n",
      "   KMP_STACKSIZE=8M\n",
      "   KMP_STORAGE_MAP=false\n",
      "   KMP_TASKING=2\n",
      "   KMP_TASKLOOP_MIN_TASKS=0\n",
      "   KMP_TASK_STEALING_CONSTRAINT=1\n",
      "   KMP_TEAMS_THREAD_LIMIT=4\n",
      "   KMP_TOPOLOGY_METHOD=all\n",
      "   KMP_USE_YIELD=1\n",
      "   KMP_VERSION=false\n",
      "   KMP_WARNINGS=false\n",
      "   OMP_AFFINITY_FORMAT='OMP: pid %P tid %i thread %n bound to OS proc set {%A}'\n",
      "   OMP_ALLOCATOR=omp_default_mem_alloc\n",
      "   OMP_CANCELLATION=false\n",
      "   OMP_DEFAULT_DEVICE=0\n",
      "   OMP_DISPLAY_AFFINITY=false\n",
      "   OMP_DISPLAY_ENV=false\n",
      "   OMP_DYNAMIC=false\n",
      "   OMP_MAX_ACTIVE_LEVELS=1\n",
      "   OMP_MAX_TASK_PRIORITY=0\n",
      "   OMP_NESTED: deprecated; max-active-levels-var=1\n",
      "   OMP_NUM_THREADS: value is not defined\n",
      "   OMP_PLACES: value is not defined\n",
      "   OMP_PROC_BIND='intel'\n",
      "   OMP_SCHEDULE='static'\n",
      "   OMP_STACKSIZE=8M\n",
      "   OMP_TARGET_OFFLOAD=DEFAULT\n",
      "   OMP_THREAD_LIMIT=2147483647\n",
      "   OMP_WAIT_POLICY=PASSIVE\n",
      "   KMP_AFFINITY='verbose,warnings,respect,granularity=fine,compact,1,0'\n",
      "\n",
      "2022-01-14 02:20:55.453402: I tensorflow/core/common_runtime/process_util.cc:146] Creating new thread pool with default inter op setting: 2. Tune using inter_op_parallelism_threads for best performance.\n"
     ]
    },
    {
     "name": "stdout",
     "output_type": "stream",
     "text": [
      "Model: \"sequential\"\n",
      "_________________________________________________________________\n",
      "Layer (type)                 Output Shape              Param #   \n",
      "=================================================================\n",
      "lstm (LSTM)                  (None, 128, 128)          110592    \n",
      "_________________________________________________________________\n",
      "flatten (Flatten)            (None, 16384)             0         \n",
      "_________________________________________________________________\n",
      "dropout (Dropout)            (None, 16384)             0         \n",
      "_________________________________________________________________\n",
      "dense (Dense)                (None, 128)               2097280   \n",
      "_________________________________________________________________\n",
      "dense_1 (Dense)              (None, 64)                8256      \n",
      "_________________________________________________________________\n",
      "dropout_1 (Dropout)          (None, 64)                0         \n",
      "_________________________________________________________________\n",
      "dense_2 (Dense)              (None, 48)                3120      \n",
      "_________________________________________________________________\n",
      "dropout_2 (Dropout)          (None, 48)                0         \n",
      "_________________________________________________________________\n",
      "dense_3 (Dense)              (None, 9)                 441       \n",
      "=================================================================\n",
      "Total params: 2,219,689\n",
      "Trainable params: 2,219,689\n",
      "Non-trainable params: 0\n",
      "_________________________________________________________________\n"
     ]
    }
   ],
   "source": [
    "\n",
    "input_shape = x_copy[0].shape\n",
    "\n",
    "model = keras.Sequential()\n",
    "model.add(LSTM(128,input_shape=input_shape,return_sequences=True))\n",
    "model.add(Flatten())\n",
    "model.add(Dropout(0.2))\n",
    "model.add(Dense(128, activation='relu'))\n",
    "model.add(Dense(64, activation='relu'))\n",
    "model.add(Dropout(0.4))\n",
    "model.add(Dense(48, activation='relu'))\n",
    "model.add(Dropout(0.4))\n",
    "\n",
    "model.add(Dense(9, activation='softmax'))\n",
    "model.summary()\n",
    "model.compile(loss=\"SparseCategoricalCrossentropy\", optimizer=\"adam\", metrics=['accuracy'])"
   ]
  },
  {
   "cell_type": "code",
   "execution_count": 15,
   "id": "91a26832",
   "metadata": {
    "execution": {
     "iopub.execute_input": "2022-01-14T02:20:55.933773Z",
     "iopub.status.busy": "2022-01-14T02:20:55.932986Z",
     "iopub.status.idle": "2022-01-14T02:22:01.844531Z",
     "shell.execute_reply": "2022-01-14T02:22:01.845385Z",
     "shell.execute_reply.started": "2022-01-13T13:37:13.707914Z"
    },
    "papermill": {
     "duration": 65.929559,
     "end_time": "2022-01-14T02:22:01.845639",
     "exception": false,
     "start_time": "2022-01-14T02:20:55.916080",
     "status": "completed"
    },
    "tags": []
   },
   "outputs": [
    {
     "name": "stderr",
     "output_type": "stream",
     "text": [
      "2022-01-14 02:20:56.008518: I tensorflow/compiler/mlir/mlir_graph_optimization_pass.cc:185] None of the MLIR Optimization Passes are enabled (registered 2)\n"
     ]
    },
    {
     "name": "stdout",
     "output_type": "stream",
     "text": [
      "Epoch 1/50\n",
      "6/6 [==============================] - 4s 322ms/step - loss: 2.4434 - accuracy: 0.1172 - val_loss: 2.1916 - val_accuracy: 0.1357\n",
      "Epoch 2/50\n",
      "6/6 [==============================] - 1s 218ms/step - loss: 2.2101 - accuracy: 0.1483 - val_loss: 2.1781 - val_accuracy: 0.1071\n",
      "Epoch 3/50\n",
      "6/6 [==============================] - 1s 203ms/step - loss: 2.1778 - accuracy: 0.1364 - val_loss: 2.1497 - val_accuracy: 0.2000\n",
      "Epoch 4/50\n",
      "6/6 [==============================] - 1s 204ms/step - loss: 2.1239 - accuracy: 0.1651 - val_loss: 2.1059 - val_accuracy: 0.2286\n",
      "Epoch 5/50\n",
      "6/6 [==============================] - 1s 205ms/step - loss: 2.1077 - accuracy: 0.1746 - val_loss: 2.1150 - val_accuracy: 0.1286\n",
      "Epoch 6/50\n",
      "6/6 [==============================] - 1s 204ms/step - loss: 2.0375 - accuracy: 0.1962 - val_loss: 2.0917 - val_accuracy: 0.2571\n",
      "Epoch 7/50\n",
      "6/6 [==============================] - 1s 204ms/step - loss: 1.9534 - accuracy: 0.2488 - val_loss: 2.0562 - val_accuracy: 0.1857\n",
      "Epoch 8/50\n",
      "6/6 [==============================] - 1s 202ms/step - loss: 1.8681 - accuracy: 0.2847 - val_loss: 2.0009 - val_accuracy: 0.2143\n",
      "Epoch 9/50\n",
      "6/6 [==============================] - 1s 204ms/step - loss: 1.7649 - accuracy: 0.3421 - val_loss: 1.9868 - val_accuracy: 0.1857\n",
      "Epoch 10/50\n",
      "6/6 [==============================] - 1s 205ms/step - loss: 1.6403 - accuracy: 0.3828 - val_loss: 1.9203 - val_accuracy: 0.2786\n",
      "Epoch 11/50\n",
      "6/6 [==============================] - 1s 218ms/step - loss: 1.6096 - accuracy: 0.3995 - val_loss: 1.9064 - val_accuracy: 0.2571\n",
      "Epoch 12/50\n",
      "6/6 [==============================] - 1s 209ms/step - loss: 1.4916 - accuracy: 0.4569 - val_loss: 1.9310 - val_accuracy: 0.2357\n",
      "Epoch 13/50\n",
      "6/6 [==============================] - 1s 208ms/step - loss: 1.3381 - accuracy: 0.4952 - val_loss: 1.9049 - val_accuracy: 0.2500\n",
      "Epoch 14/50\n",
      "6/6 [==============================] - 1s 210ms/step - loss: 1.2495 - accuracy: 0.5502 - val_loss: 1.9428 - val_accuracy: 0.2429\n",
      "Epoch 15/50\n",
      "6/6 [==============================] - 1s 210ms/step - loss: 1.0541 - accuracy: 0.5909 - val_loss: 1.8515 - val_accuracy: 0.3429\n",
      "Epoch 16/50\n",
      "6/6 [==============================] - 1s 210ms/step - loss: 0.8861 - accuracy: 0.6770 - val_loss: 1.8739 - val_accuracy: 0.3000\n",
      "Epoch 17/50\n",
      "6/6 [==============================] - 1s 213ms/step - loss: 0.8887 - accuracy: 0.6962 - val_loss: 1.9744 - val_accuracy: 0.2714\n",
      "Epoch 18/50\n",
      "6/6 [==============================] - 1s 212ms/step - loss: 0.7867 - accuracy: 0.7057 - val_loss: 2.1193 - val_accuracy: 0.2643\n",
      "Epoch 19/50\n",
      "6/6 [==============================] - 1s 208ms/step - loss: 0.7436 - accuracy: 0.7368 - val_loss: 2.0419 - val_accuracy: 0.2500\n",
      "Epoch 20/50\n",
      "6/6 [==============================] - 1s 220ms/step - loss: 0.6234 - accuracy: 0.7775 - val_loss: 2.2006 - val_accuracy: 0.2786\n",
      "Epoch 21/50\n",
      "6/6 [==============================] - 2s 297ms/step - loss: 0.5405 - accuracy: 0.7943 - val_loss: 2.0319 - val_accuracy: 0.2929\n",
      "Epoch 22/50\n",
      "6/6 [==============================] - 1s 210ms/step - loss: 0.5249 - accuracy: 0.8062 - val_loss: 2.1810 - val_accuracy: 0.2929\n",
      "Epoch 23/50\n",
      "6/6 [==============================] - 1s 200ms/step - loss: 0.4876 - accuracy: 0.8134 - val_loss: 2.1231 - val_accuracy: 0.2929\n",
      "Epoch 24/50\n",
      "6/6 [==============================] - 1s 202ms/step - loss: 0.4260 - accuracy: 0.8397 - val_loss: 2.1979 - val_accuracy: 0.2571\n",
      "Epoch 25/50\n",
      "6/6 [==============================] - 1s 202ms/step - loss: 0.4380 - accuracy: 0.8349 - val_loss: 2.3517 - val_accuracy: 0.2071\n",
      "Epoch 26/50\n",
      "6/6 [==============================] - 1s 202ms/step - loss: 0.4057 - accuracy: 0.8469 - val_loss: 2.3397 - val_accuracy: 0.2714\n",
      "Epoch 27/50\n",
      "6/6 [==============================] - 1s 202ms/step - loss: 0.3322 - accuracy: 0.8684 - val_loss: 2.3673 - val_accuracy: 0.2714\n",
      "Epoch 28/50\n",
      "6/6 [==============================] - 1s 207ms/step - loss: 0.3891 - accuracy: 0.8325 - val_loss: 2.4692 - val_accuracy: 0.2429\n",
      "Epoch 29/50\n",
      "6/6 [==============================] - 1s 219ms/step - loss: 0.3606 - accuracy: 0.8469 - val_loss: 2.2857 - val_accuracy: 0.2786\n",
      "Epoch 30/50\n",
      "6/6 [==============================] - 1s 200ms/step - loss: 0.3529 - accuracy: 0.8660 - val_loss: 2.7378 - val_accuracy: 0.2143\n",
      "Epoch 31/50\n",
      "6/6 [==============================] - 1s 202ms/step - loss: 0.3159 - accuracy: 0.8469 - val_loss: 2.5441 - val_accuracy: 0.2500\n",
      "Epoch 32/50\n",
      "6/6 [==============================] - 1s 204ms/step - loss: 0.3582 - accuracy: 0.8493 - val_loss: 2.9360 - val_accuracy: 0.2357\n",
      "Epoch 33/50\n",
      "6/6 [==============================] - 1s 205ms/step - loss: 0.3618 - accuracy: 0.8565 - val_loss: 2.8972 - val_accuracy: 0.2357\n",
      "Epoch 34/50\n",
      "6/6 [==============================] - 1s 209ms/step - loss: 0.3049 - accuracy: 0.8589 - val_loss: 2.9272 - val_accuracy: 0.2071\n",
      "Epoch 35/50\n",
      "6/6 [==============================] - 1s 207ms/step - loss: 0.3120 - accuracy: 0.8589 - val_loss: 2.7176 - val_accuracy: 0.2357\n",
      "Epoch 36/50\n",
      "6/6 [==============================] - 1s 204ms/step - loss: 0.2737 - accuracy: 0.8756 - val_loss: 3.1259 - val_accuracy: 0.2286\n",
      "Epoch 37/50\n",
      "6/6 [==============================] - 1s 224ms/step - loss: 0.2916 - accuracy: 0.8756 - val_loss: 2.8829 - val_accuracy: 0.2571\n",
      "Epoch 38/50\n",
      "6/6 [==============================] - 1s 220ms/step - loss: 0.2734 - accuracy: 0.8517 - val_loss: 2.6748 - val_accuracy: 0.2786\n",
      "Epoch 39/50\n",
      "6/6 [==============================] - 1s 208ms/step - loss: 0.2424 - accuracy: 0.8923 - val_loss: 2.7999 - val_accuracy: 0.2714\n",
      "Epoch 40/50\n",
      "6/6 [==============================] - 1s 209ms/step - loss: 0.2498 - accuracy: 0.8780 - val_loss: 2.7591 - val_accuracy: 0.3071\n",
      "Epoch 41/50\n",
      "6/6 [==============================] - 1s 211ms/step - loss: 0.2884 - accuracy: 0.8708 - val_loss: 2.9166 - val_accuracy: 0.2714\n",
      "Epoch 42/50\n",
      "6/6 [==============================] - 1s 212ms/step - loss: 0.2542 - accuracy: 0.8923 - val_loss: 2.7236 - val_accuracy: 0.2500\n",
      "Epoch 43/50\n",
      "6/6 [==============================] - 1s 215ms/step - loss: 0.2966 - accuracy: 0.8589 - val_loss: 3.2404 - val_accuracy: 0.3000\n",
      "Epoch 44/50\n",
      "6/6 [==============================] - 1s 212ms/step - loss: 0.2557 - accuracy: 0.8876 - val_loss: 2.7994 - val_accuracy: 0.2857\n",
      "Epoch 45/50\n",
      "6/6 [==============================] - 1s 216ms/step - loss: 0.2422 - accuracy: 0.8828 - val_loss: 2.6157 - val_accuracy: 0.2714\n",
      "Epoch 46/50\n",
      "6/6 [==============================] - 1s 207ms/step - loss: 0.2302 - accuracy: 0.8971 - val_loss: 2.7073 - val_accuracy: 0.2714\n",
      "Epoch 47/50\n",
      "6/6 [==============================] - 2s 328ms/step - loss: 0.2404 - accuracy: 0.8732 - val_loss: 2.8945 - val_accuracy: 0.2714\n",
      "Epoch 48/50\n",
      "6/6 [==============================] - 1s 204ms/step - loss: 0.2264 - accuracy: 0.8995 - val_loss: 3.0028 - val_accuracy: 0.2714\n",
      "Epoch 49/50\n",
      "6/6 [==============================] - 1s 209ms/step - loss: 0.2158 - accuracy: 0.8756 - val_loss: 3.2869 - val_accuracy: 0.2643\n",
      "Epoch 50/50\n",
      "6/6 [==============================] - 1s 206ms/step - loss: 0.2480 - accuracy: 0.8756 - val_loss: 3.5268 - val_accuracy: 0.2071\n"
     ]
    }
   ],
   "source": [
    "history = model.fit(X_train, y_train, epochs=50, batch_size=72, validation_data=(X_val, y_val), shuffle=False)"
   ]
  },
  {
   "cell_type": "markdown",
   "id": "53d7efeb",
   "metadata": {
    "papermill": {
     "duration": 0.105715,
     "end_time": "2022-01-14T02:22:02.057202",
     "exception": false,
     "start_time": "2022-01-14T02:22:01.951487",
     "status": "completed"
    },
    "tags": []
   },
   "source": [
    "remember2 = sorted(remember,reverse=True)"
   ]
  },
  {
   "cell_type": "code",
   "execution_count": 16,
   "id": "3ba1f9f5",
   "metadata": {
    "execution": {
     "iopub.execute_input": "2022-01-14T02:22:02.277997Z",
     "iopub.status.busy": "2022-01-14T02:22:02.277347Z",
     "iopub.status.idle": "2022-01-14T02:22:02.609172Z",
     "shell.execute_reply": "2022-01-14T02:22:02.608616Z",
     "shell.execute_reply.started": "2022-01-13T13:37:13.710681Z"
    },
    "papermill": {
     "duration": 0.445441,
     "end_time": "2022-01-14T02:22:02.609346",
     "exception": false,
     "start_time": "2022-01-14T02:22:02.163905",
     "status": "completed"
    },
    "tags": []
   },
   "outputs": [
    {
     "data": {
      "image/png": "[encoded data removed]",
      "text/plain": [
       "<Figure size 1080x360 with 2 Axes>"
      ]
     },
     "metadata": {
      "needs_background": "light"
     },
     "output_type": "display_data"
    }
   ],
   "source": [
    "#Adapted from Deep Learning with Python by Francois Chollet, 2018\n",
    "history_dict=history.history\n",
    "loss_values=history_dict['loss']\n",
    "acc_values=history_dict['accuracy']\n",
    "val_loss_values = history_dict['val_loss']\n",
    "val_acc_values=history_dict['val_accuracy']\n",
    "epochs=range(1,51)\n",
    "fig,(ax1,ax2)=plt.subplots(1,2,figsize=(15,5))\n",
    "ax1.plot(epochs,loss_values,'co',label='Training Loss')\n",
    "ax1.plot(epochs,val_loss_values,'m', label='Validation Loss')\n",
    "ax1.set_title('Training and validation loss')\n",
    "ax1.set_xlabel('Epochs')\n",
    "ax1.set_ylabel('Loss')\n",
    "ax1.legend()\n",
    "ax2.plot(epochs,acc_values,'co', label='Training accuracy')\n",
    "ax2.plot(epochs,val_acc_values,'m',label='Validation accuracy')\n",
    "ax2.set_title('Training and validation accuracy')\n",
    "ax2.set_xlabel('Epochs')\n",
    "ax2.set_ylabel('Accuracy')\n",
    "ax2.legend()\n",
    "plt.show()"
   ]
  },
  {
   "cell_type": "code",
   "execution_count": 17,
   "id": "698fefe6",
   "metadata": {
    "execution": {
     "iopub.execute_input": "2022-01-14T02:22:02.826817Z",
     "iopub.status.busy": "2022-01-14T02:22:02.826153Z",
     "iopub.status.idle": "2022-01-14T02:22:04.521845Z",
     "shell.execute_reply": "2022-01-14T02:22:04.522478Z",
     "shell.execute_reply.started": "2022-01-13T13:37:13.712274Z"
    },
    "papermill": {
     "duration": 1.807205,
     "end_time": "2022-01-14T02:22:04.522733",
     "exception": false,
     "start_time": "2022-01-14T02:22:02.715528",
     "status": "completed"
    },
    "tags": []
   },
   "outputs": [
    {
     "name": "stdout",
     "output_type": "stream",
     "text": [
      "14/14 [==============================] - 1s 41ms/step - loss: 0.1274 - accuracy: 0.9187\n",
      "6/6 [==============================] - 0s 42ms/step - loss: 3.4262 - accuracy: 0.2193\n",
      "Confusion_matrix:  tf.Tensor(\n",
      "[[ 2  1  1  1  9  0  2  1  0]\n",
      " [ 0  5  0  1  5  1  4  1  0]\n",
      " [ 0  0  2  4 15  1  0  3  0]\n",
      " [ 0  1  0  2  4 15  1  2  0]\n",
      " [ 0  0  2  0 21  1  0  1  0]\n",
      " [ 0  1  0 15  4  3  0  2  0]\n",
      " [ 0  1  2  2 15  3  1  1  0]\n",
      " [ 0  0  1  2 13  2  2  5  0]\n",
      " [ 0  0  0  0  2  1  0  0  0]], shape=(9, 9), dtype=int32)\n"
     ]
    }
   ],
   "source": [
    "from tensorflow.math import confusion_matrix\n",
    "\n",
    "TrainLoss, Trainacc = model.evaluate(X_train,y_train)\n",
    "TestLoss, Testacc = model.evaluate(X_test, y_test)\n",
    "y_pred=model.predict(X_test)\n",
    "print('Confusion_matrix: ',confusion_matrix(y_test, np.argmax(y_pred,axis=1)))"
   ]
  },
  {
   "cell_type": "code",
   "execution_count": 18,
   "id": "b27c6a08",
   "metadata": {
    "execution": {
     "iopub.execute_input": "2022-01-14T02:22:04.747770Z",
     "iopub.status.busy": "2022-01-14T02:22:04.747102Z",
     "iopub.status.idle": "2022-01-14T02:22:04.967710Z",
     "shell.execute_reply": "2022-01-14T02:22:04.967100Z",
     "shell.execute_reply.started": "2022-01-13T13:37:13.713768Z"
    },
    "papermill": {
     "duration": 0.335259,
     "end_time": "2022-01-14T02:22:04.967859",
     "exception": false,
     "start_time": "2022-01-14T02:22:04.632600",
     "status": "completed"
    },
    "tags": []
   },
   "outputs": [
    {
     "data": {
      "image/png": "[encoded data removed]",
      "text/plain": [
       "<Figure size 1440x504 with 2 Axes>"
      ]
     },
     "metadata": {
      "needs_background": "light"
     },
     "output_type": "display_data"
    }
   ],
   "source": [
    "import librosa.display\n",
    "fig, ax = plt.subplots(figsize=(20,7))\n",
    "librosa.display.specshow(X_train[0],sr=sr, cmap='cool',hop_length=hop_length)\n",
    "ax.set_xlabel('Time', fontsize=15)\n",
    "ax.set_title('MFCC', size=20)\n",
    "plt.colorbar()\n",
    "plt.show()"
   ]
  }
 ],
 "metadata": {
  "kernelspec": {
   "display_name": "Python 3",
   "language": "python",
   "name": "python3"
  },
  "language_info": {
   "codemirror_mode": {
    "name": "ipython",
    "version": 3
   },
   "file_extension": ".py",
   "mimetype": "text/x-python",
   "name": "python",
   "nbconvert_exporter": "python",
   "pygments_lexer": "ipython3",
   "version": "3.11.5"
  },
  "papermill": {
   "default_parameters": {},
   "duration": 229.69763,
   "end_time": "2022-01-14T02:22:07.981487",
   "environment_variables": {},
   "exception": null,
   "input_path": "__notebook__.ipynb",
   "output_path": "__notebook__.ipynb",
   "parameters": {},
   "start_time": "2022-01-14T02:18:18.283857",
   "version": "2.3.3"
  }
 },
 "nbformat": 4,
 "nbformat_minor": 5
}
